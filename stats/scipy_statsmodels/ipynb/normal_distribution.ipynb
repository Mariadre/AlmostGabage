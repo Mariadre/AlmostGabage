{
 "cells": [
  {
   "cell_type": "code",
   "execution_count": 6,
   "metadata": {},
   "outputs": [],
   "source": [
    "import numpy as np\n",
    "import pandas as pd\n",
    "import scipy as sp\n",
    "from scipy import stats\n",
    "\n",
    "import matplotlib.pyplot as plt\n",
    "import seaborn as sns\n",
    "sns.set()\n",
    "\n",
    "import warnings\n",
    "warnings.filterwarnings('ignore')\n",
    "\n",
    "%matplotlib inline"
   ]
  },
  {
   "cell_type": "code",
   "execution_count": 8,
   "metadata": {},
   "outputs": [],
   "source": [
    "# 平均 4, 標準偏差 0.8 の正規分布\n",
    "norm_dist = stats.norm(loc=4, scale=0.8)\n",
    "\n",
    "# 図示\n",
    "x = np.arange(1, 7.1, 0.1)\n",
    "plt.plot(x, norm_dist.pdf(x))"
   ]
  },
  {
   "cell_type": "code",
   "execution_count": 14,
   "metadata": {},
   "outputs": [
    {
     "name": "stdout",
     "output_type": "stream",
     "text": [
      "P(X=3):  0.228\n",
      "P(X<=3): 0.106\n"
     ]
    }
   ],
   "source": [
    "# 確率変数 x = 3 のときの確率密度\n",
    "print('P(X=3):  {:.3f}'.format(norm_dist.pdf(x=3)))\n",
    "\n",
    "# 3 以下となる確率\n",
    "print('P(X<=3): {:.3f}'.format(norm_dist.cdf(x=3)))"
   ]
  },
  {
   "cell_type": "code",
   "execution_count": 15,
   "metadata": {},
   "outputs": [
    {
     "data": {
      "text/plain": [
       "2.4320288123679563"
      ]
     },
     "execution_count": 15,
     "metadata": {},
     "output_type": "execute_result"
    }
   ],
   "source": [
    "# 下側確率が 2.5% となるパーセント点\n",
    "norm_dist.ppf(q=0.025)"
   ]
  }
 ],
 "metadata": {
  "kernelspec": {
   "display_name": "Python 3",
   "language": "python",
   "name": "python3"
  },
  "language_info": {
   "codemirror_mode": {
    "name": "ipython",
    "version": 3
   },
   "file_extension": ".py",
   "mimetype": "text/x-python",
   "name": "python",
   "nbconvert_exporter": "python",
   "pygments_lexer": "ipython3",
   "version": "3.6.6"
  }
 },
 "nbformat": 4,
 "nbformat_minor": 2
}
