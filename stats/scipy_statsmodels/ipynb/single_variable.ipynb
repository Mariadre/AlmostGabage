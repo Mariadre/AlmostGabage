{
 "cells": [
  {
   "cell_type": "code",
   "execution_count": 30,
   "metadata": {},
   "outputs": [],
   "source": [
    "import numpy as np\n",
    "import scipy as sp"
   ]
  },
  {
   "cell_type": "code",
   "execution_count": 46,
   "metadata": {},
   "outputs": [
    {
     "data": {
      "text/plain": [
       "array([2, 3, 3, 4, 4, 4, 4, 5, 5, 6])"
      ]
     },
     "execution_count": 46,
     "metadata": {},
     "output_type": "execute_result"
    }
   ],
   "source": [
    "# 標本として以下のような一変量（魚の体長）データを考える\n",
    "fish_data = np.array([2, 3, 3, 4, 4, 4, 4, 5, 5, 6])\n",
    "fish_data"
   ]
  },
  {
   "cell_type": "code",
   "execution_count": 5,
   "metadata": {},
   "outputs": [
    {
     "data": {
      "text/plain": [
       "10"
      ]
     },
     "execution_count": 5,
     "metadata": {},
     "output_type": "execute_result"
    }
   ],
   "source": [
    "len(fish_data)"
   ]
  },
  {
   "cell_type": "code",
   "execution_count": 6,
   "metadata": {},
   "outputs": [
    {
     "data": {
      "text/plain": [
       "40"
      ]
     },
     "execution_count": 6,
     "metadata": {},
     "output_type": "execute_result"
    }
   ],
   "source": [
    "# numpy でも同様であるが、統計の基本的な計算は敢えて scipy を用いる\n",
    "\n",
    "# 合計\n",
    "sp.sum(fish_data)"
   ]
  },
  {
   "cell_type": "code",
   "execution_count": 9,
   "metadata": {},
   "outputs": [
    {
     "data": {
      "text/plain": [
       "4.0"
      ]
     },
     "execution_count": 9,
     "metadata": {},
     "output_type": "execute_result"
    }
   ],
   "source": [
    "# 平均値（期待値）\n",
    "N = len(fish_data)\n",
    "sum_value = sp.sum(fish_data)\n",
    "mu = sum_value / N\n",
    "mu\n",
    "\n",
    "# sp.mean(fish_data) で簡単に計算可能"
   ]
  },
  {
   "cell_type": "code",
   "execution_count": 10,
   "metadata": {},
   "outputs": [
    {
     "data": {
      "text/plain": [
       "1.2"
      ]
     },
     "execution_count": 10,
     "metadata": {},
     "output_type": "execute_result"
    }
   ],
   "source": [
    "# 標本分散\n",
    "sigma_2_sample = sp.sum((fish_data - mu) ** 2) / N\n",
    "sigma_2_sample\n",
    "\n",
    "# sp.var(fish_data) で簡単に計算可能"
   ]
  },
  {
   "cell_type": "code",
   "execution_count": 23,
   "metadata": {},
   "outputs": [
    {
     "data": {
      "text/plain": [
       "1.3333333333333333"
      ]
     },
     "execution_count": 23,
     "metadata": {},
     "output_type": "execute_result"
    }
   ],
   "source": [
    "# 不偏分散\n",
    "sigma_2 = sp.sum((fish_data - mu) ** 2) / (N - 1)\n",
    "sigma_2\n",
    "\n",
    "# sp.var(fish_data , ddof=1) で簡単に計算可能（ddof は (N - ddof) として使われる値）"
   ]
  },
  {
   "cell_type": "code",
   "execution_count": 20,
   "metadata": {},
   "outputs": [
    {
     "data": {
      "text/plain": [
       "1.1547005383792515"
      ]
     },
     "execution_count": 20,
     "metadata": {},
     "output_type": "execute_result"
    }
   ],
   "source": [
    "# 標準偏差\n",
    "sigma = sp.sqrt(sp.sum((fish_data - mu) ** 2) / (N - 1))\n",
    "sigma "
   ]
  },
  {
   "cell_type": "code",
   "execution_count": 25,
   "metadata": {},
   "outputs": [
    {
     "data": {
      "text/plain": [
       "array([-1.732, -0.866, -0.866,  0.   ,  0.   ,  0.   ,  0.   ,  0.866,\n",
       "        0.866,  1.732])"
      ]
     },
     "execution_count": 25,
     "metadata": {},
     "output_type": "execute_result"
    }
   ],
   "source": [
    "# データの標準化\n",
    "standard_fish_data = (fish_data - mu) / sigma\n",
    "standard_fish_data"
   ]
  },
  {
   "cell_type": "code",
   "execution_count": 32,
   "metadata": {},
   "outputs": [
    {
     "name": "stdout",
     "output_type": "stream",
     "text": [
      "0.000\n",
      "1.000\n"
     ]
    }
   ],
   "source": [
    "# 標準化後の平均値と分散（普遍分散）\n",
    "print('{:.3f}'.format(sp.mean(standard_fish_data)))\n",
    "print('{:.3f}'.format(sp.std(standard_fish_data, ddof=1)))"
   ]
  },
  {
   "cell_type": "code",
   "execution_count": 38,
   "metadata": {},
   "outputs": [
    {
     "name": "stdout",
     "output_type": "stream",
     "text": [
      "max: 6\n",
      "min: 2\n"
     ]
    }
   ],
   "source": [
    "# その他の統計量\n",
    "\n",
    "# 最大値\n",
    "print('max:', sp.amax(fish_data))  # （numpy なら np.max(fish_data))\n",
    "\n",
    "# 最小値\n",
    "print('min:', sp.amin(fish_data))  # （numpy なら np.min(fish_data))"
   ]
  },
  {
   "cell_type": "code",
   "execution_count": 39,
   "metadata": {},
   "outputs": [
    {
     "data": {
      "text/plain": [
       "4.0"
      ]
     },
     "execution_count": 39,
     "metadata": {},
     "output_type": "execute_result"
    }
   ],
   "source": [
    "# 中央値\n",
    "sp.median(fish_data)"
   ]
  },
  {
   "cell_type": "code",
   "execution_count": 45,
   "metadata": {},
   "outputs": [
    {
     "name": "stdout",
     "output_type": "stream",
     "text": [
      "2nd Qt(Median): 4.000\n",
      "1st Qt: 3.250\n",
      "3rd Qt: 4.750\n"
     ]
    }
   ],
   "source": [
    "# 四分位数\n",
    "from scipy import stats\n",
    "\n",
    "# 50% 点データ（中央値）\n",
    "# stats.scoreatpercentile(fish_data, 50)\n",
    "\n",
    "# 第一四分位数と第三四分位数\n",
    "qt_1st, qt_3rd = stats.scoreatpercentile(fish_data, [25, 75])\n",
    "print('1st Qt: {:.3f}\\n3rd Qt: {:.3f}'.format(qt_1st, qt_3rd))"
   ]
  },
  {
   "cell_type": "code",
   "execution_count": null,
   "metadata": {},
   "outputs": [],
   "source": []
  }
 ],
 "metadata": {
  "kernelspec": {
   "display_name": "Python 3",
   "language": "python",
   "name": "python3"
  },
  "language_info": {
   "codemirror_mode": {
    "name": "ipython",
    "version": 3
   },
   "file_extension": ".py",
   "mimetype": "text/x-python",
   "name": "python",
   "nbconvert_exporter": "python",
   "pygments_lexer": "ipython3",
   "version": "3.6.6"
  }
 },
 "nbformat": 4,
 "nbformat_minor": 2
}
