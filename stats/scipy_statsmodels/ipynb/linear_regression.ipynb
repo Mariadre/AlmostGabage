{
 "cells": [
  {
   "cell_type": "markdown",
   "metadata": {},
   "source": [
    "# 単回帰"
   ]
  },
  {
   "cell_type": "code",
   "execution_count": 3,
   "metadata": {},
   "outputs": [],
   "source": [
    "import numpy as np\n",
    "import pandas as pd\n",
    "import scipy as sp\n",
    "from scipy import stats\n",
    "\n",
    "import matplotlib.pyplot as plt\n",
    "import seaborn as sns\n",
    "sns.set()\n",
    "\n",
    "import warnings\n",
    "warnings.filterwarnings('ignore')\n",
    "\n",
    "import statsmodels.formula.api as smf\n",
    "import statsmodels.api as sm\n",
    "\n",
    "%matplotlib inline"
   ]
  },
  {
   "cell_type": "code",
   "execution_count": 4,
   "metadata": {},
   "outputs": [],
   "source": [
    "# 分析対象となる気温とビールの売上データ\n",
    "beer = pd.read_csv('beer.csv')"
   ]
  },
  {
   "cell_type": "code",
   "execution_count": 5,
   "metadata": {},
   "outputs": [
    {
     "data": {
      "text/plain": [
       "<seaborn.axisgrid.JointGrid at 0x7fa57516ed30>"
      ]
     },
     "execution_count": 5,
     "metadata": {},
     "output_type": "execute_result"
    },
    {
     "data": {
      "image/png": "[encoded data removed]",
      "text/plain": [
       "<matplotlib.figure.Figure at 0x7fa57516ec88>"
      ]
     },
     "metadata": {},
     "output_type": "display_data"
    }
   ],
   "source": [
    "sns.jointplot(x='temperature', y='beer', data=beer)"
   ]
  },
  {
   "cell_type": "markdown",
   "metadata": {},
   "source": [
    "### ■ 今回構築するモデル\n",
    "\n",
    "応答変数にビールの売上を、説明変数に気温を用いた正規線形モデルを構築する。\n",
    "\n",
    "ビールの売上 ~ N( $ {\\beta}_0 $ + $ {\\beta}_1 $ × 気温, $ {\\sigma}^2 $ )\n",
    "\n",
    "今回は説明変数がひとつしかないため、モデルの特定は「気温がモデルに組み込まれるか否か」を判断することになる。<br>\n",
    "パラメータ推定の対象は $ {\\beta}_0 $, $ {\\beta}_1 $ のふたつ。\n",
    "\n",
    "\n",
    "#### モデルを構築することで得られるメリット\n",
    "\n",
    "- 実世界の現象の解釈が可能になる\n",
    "    - 係数 $ {\\beta}_1 $ が 0 でないと判断できれば、「ビールの売上は気温の影響を受けている」と判断できる\n",
    "    - AIC によるモデル選択の文脈で言えば、「ビールの売上予測において気温という説明変数は有用」と解釈できる。\n",
    "    - また、係数 $ {\\beta}_1 $ の正負が分かれば、ビールの売上との相関関係が分かる。\n",
    "- 予測が可能になる\n",
    "    - 係数と気温が分かれば、ビールの売上の期待値が計算できるようになる。\n",
    "\n",
    "----"
   ]
  },
  {
   "cell_type": "code",
   "execution_count": 6,
   "metadata": {},
   "outputs": [],
   "source": [
    "# モデルの特定とパラメータ推定\n",
    "lm_model = smf.ols(formula='beer ~ temperature', data=beer).fit()"
   ]
  },
  {
   "cell_type": "code",
   "execution_count": 7,
   "metadata": {},
   "outputs": [
    {
     "data": {
      "text/html": [
       "<table class=\"simpletable\">\n",
       "<caption>OLS Regression Results</caption>\n",
       "<tr>\n",
       "  <th>Dep. Variable:</th>          <td>beer</td>       <th>  R-squared:         </th> <td>   0.504</td>\n",
       "</tr>\n",
       "<tr>\n",
       "  <th>Model:</th>                   <td>OLS</td>       <th>  Adj. R-squared:    </th> <td>   0.486</td>\n",
       "</tr>\n",
       "<tr>\n",
       "  <th>Method:</th>             <td>Least Squares</td>  <th>  F-statistic:       </th> <td>   28.45</td>\n",
       "</tr>\n",
       "<tr>\n",
       "  <th>Date:</th>             <td>Sun, 12 Aug 2018</td> <th>  Prob (F-statistic):</th> <td>1.11e-05</td>\n",
       "</tr>\n",
       "<tr>\n",
       "  <th>Time:</th>                 <td>12:04:41</td>     <th>  Log-Likelihood:    </th> <td> -102.45</td>\n",
       "</tr>\n",
       "<tr>\n",
       "  <th>No. Observations:</th>      <td>    30</td>      <th>  AIC:               </th> <td>   208.9</td>\n",
       "</tr>\n",
       "<tr>\n",
       "  <th>Df Residuals:</th>          <td>    28</td>      <th>  BIC:               </th> <td>   211.7</td>\n",
       "</tr>\n",
       "<tr>\n",
       "  <th>Df Model:</th>              <td>     1</td>      <th>                     </th>     <td> </td>   \n",
       "</tr>\n",
       "<tr>\n",
       "  <th>Covariance Type:</th>      <td>nonrobust</td>    <th>                     </th>     <td> </td>   \n",
       "</tr>\n",
       "</table>\n",
       "<table class=\"simpletable\">\n",
       "<tr>\n",
       "       <td></td>          <th>coef</th>     <th>std err</th>      <th>t</th>      <th>P>|t|</th>  <th>[0.025</th>    <th>0.975]</th>  \n",
       "</tr>\n",
       "<tr>\n",
       "  <th>Intercept</th>   <td>   34.6102</td> <td>    3.235</td> <td>   10.699</td> <td> 0.000</td> <td>   27.984</td> <td>   41.237</td>\n",
       "</tr>\n",
       "<tr>\n",
       "  <th>temperature</th> <td>    0.7654</td> <td>    0.144</td> <td>    5.334</td> <td> 0.000</td> <td>    0.471</td> <td>    1.059</td>\n",
       "</tr>\n",
       "</table>\n",
       "<table class=\"simpletable\">\n",
       "<tr>\n",
       "  <th>Omnibus:</th>       <td> 0.587</td> <th>  Durbin-Watson:     </th> <td>   1.960</td>\n",
       "</tr>\n",
       "<tr>\n",
       "  <th>Prob(Omnibus):</th> <td> 0.746</td> <th>  Jarque-Bera (JB):  </th> <td>   0.290</td>\n",
       "</tr>\n",
       "<tr>\n",
       "  <th>Skew:</th>          <td>-0.240</td> <th>  Prob(JB):          </th> <td>   0.865</td>\n",
       "</tr>\n",
       "<tr>\n",
       "  <th>Kurtosis:</th>      <td> 2.951</td> <th>  Cond. No.          </th> <td>    52.5</td>\n",
       "</tr>\n",
       "</table><br/><br/>Warnings:<br/>[1] Standard Errors assume that the covariance matrix of the errors is correctly specified."
      ],
      "text/plain": [
       "<class 'statsmodels.iolib.summary.Summary'>\n",
       "\"\"\"\n",
       "                            OLS Regression Results                            \n",
       "==============================================================================\n",
       "Dep. Variable:                   beer   R-squared:                       0.504\n",
       "Model:                            OLS   Adj. R-squared:                  0.486\n",
       "Method:                 Least Squares   F-statistic:                     28.45\n",
       "Date:                Sun, 12 Aug 2018   Prob (F-statistic):           1.11e-05\n",
       "Time:                        12:04:41   Log-Likelihood:                -102.45\n",
       "No. Observations:                  30   AIC:                             208.9\n",
       "Df Residuals:                      28   BIC:                             211.7\n",
       "Df Model:                           1                                         \n",
       "Covariance Type:            nonrobust                                         \n",
       "===============================================================================\n",
       "                  coef    std err          t      P>|t|      [0.025      0.975]\n",
       "-------------------------------------------------------------------------------\n",
       "Intercept      34.6102      3.235     10.699      0.000      27.984      41.237\n",
       "temperature     0.7654      0.144      5.334      0.000       0.471       1.059\n",
       "==============================================================================\n",
       "Omnibus:                        0.587   Durbin-Watson:                   1.960\n",
       "Prob(Omnibus):                  0.746   Jarque-Bera (JB):                0.290\n",
       "Skew:                          -0.240   Prob(JB):                        0.865\n",
       "Kurtosis:                       2.951   Cond. No.                         52.5\n",
       "==============================================================================\n",
       "\n",
       "Warnings:\n",
       "[1] Standard Errors assume that the covariance matrix of the errors is correctly specified.\n",
       "\"\"\""
      ]
     },
     "execution_count": 7,
     "metadata": {},
     "output_type": "execute_result"
    }
   ],
   "source": [
    "# 推定結果の表示\n",
    "lm_model.summary()"
   ]
  },
  {
   "cell_type": "markdown",
   "metadata": {},
   "source": [
    "### ■ 結果の見方\n",
    "----\n",
    "- Dep. Variable：応答変数の名前\n",
    "- Model：通常最小二乗法\n",
    "- No.Observations：サンプルサイズ\n",
    "- Df Residuals：サンプルサイズから「推定されたパラメータの数」を引いた値\n",
    "- Df Model：用いられた説明変数の数\n",
    "- R-squared：決定係数\n",
    "- Adj. R-squared：自由度調整済み決定係数\n",
    "- F-statistic：F比\n",
    "- Prob(F-statistic)：分散分析の p 値\n",
    "- Log-Likelihood：最大化対数尤度\n",
    "- AIC：情報量規準\n",
    "----\n",
    "- Intercept：切片\n",
    "- coef：係数・切片の値\n",
    "- P>|t|：帰無仮説を「係数の値が 0 である」としたときの p 値\n",
    "----\n",
    "- Prob(Omnibus) & Prob(JB)：残差の正規性の検定結果\n",
    "    - 帰無仮説：残差は正規分布に従っている\n",
    "    - 対立仮説：残差は正規分布と異なる\n",
    "    - この p 値が 0.05 よりも大きいことを確認することで、明らかな問題がないことを確認できる。\n",
    "- Skew & Kurtosis：歪度と尖度\n",
    "    - 歪度：ヒストグラムの左右非対称さを測る指標（0 より大きいと左に寄る。正規分布は歪度 0。）\n",
    "    - 尖度：ヒストグラムの中心部分の尖り具合を測る指標（大きいほど尖る。正規分布は尖度 3。）\n",
    "- Durbin-Watson：残差の自己相関チェックの指標。\n",
    "    - 2前後であれば自己相関がないと判断できる\n",
    "    - 時系列データを対象とする分析は必ずチェックする\n",
    "    - この統計量が 2 より大きくずれていれば、一般化最小二乗法の使用等を検討する必要がある"
   ]
  },
  {
   "cell_type": "code",
   "execution_count": 8,
   "metadata": {},
   "outputs": [
    {
     "name": "stdout",
     "output_type": "stream",
     "text": [
      "Null Model AIC: 227.942\n",
      "Temperature Model AIC: 208.909\n"
     ]
    }
   ],
   "source": [
    "# AIC による変数選択（モデル選択）を手動で実行してみる\n",
    "\n",
    "# Null モデル\n",
    "null_model = smf.ols('beer ~ 1', data=beer).fit()\n",
    "print('Null Model AIC: {:.3f}'.format(null_model.aic))\n",
    "\n",
    "# 気温ありモデル\n",
    "temp_model = smf.ols('beer ~ temperature', data=beer).fit()\n",
    "print('Temperature Model AIC: {:.3f}'.format(temp_model.aic))\n",
    "\n",
    "# 気温ありモデルの AIC の方が小さいので、説明変数に気温は必要と判断できる"
   ]
  },
  {
   "cell_type": "markdown",
   "metadata": {},
   "source": [
    "----\n",
    "AIC は以下のように計算される。\n",
    "\n",
    "```\n",
    "AIC = -2 ×（最大化対数尤度 - 推定されたパラメータの個数）\n",
    "```"
   ]
  },
  {
   "cell_type": "code",
   "execution_count": 9,
   "metadata": {},
   "outputs": [
    {
     "name": "stdout",
     "output_type": "stream",
     "text": [
      "llf: -102.455\n",
      "#params: 2.000\n",
      "AIC: 208.909\n"
     ]
    }
   ],
   "source": [
    "# 最大化対数尤度\n",
    "print('llf: {:.3f}'.format(temp_model.llf))\n",
    "\n",
    "# 用いられた説明変数の数 + 切片　が推定されたパラメータの数\n",
    "print('#params: {:.3f}'.format(temp_model.df_model + 1))\n",
    "\n",
    "# AIC\n",
    "aic = -2* (lm_model.llf - (temp_model.df_model + 1))\n",
    "print('AIC: {:.3f}'.format(aic))"
   ]
  },
  {
   "cell_type": "markdown",
   "metadata": {},
   "source": [
    "----\n",
    "### ■ 回帰曲線の図示"
   ]
  },
  {
   "cell_type": "code",
   "execution_count": 10,
   "metadata": {},
   "outputs": [
    {
     "data": {
      "text/plain": [
       "<seaborn.axisgrid.FacetGrid at 0x7fa572fbb9e8>"
      ]
     },
     "execution_count": 10,
     "metadata": {},
     "output_type": "execute_result"
    },
    {
     "data": {
      "image/png": "[encoded data removed]",
      "text/plain": [
       "<matplotlib.figure.Figure at 0x7fa572fbb2e8>"
      ]
     },
     "metadata": {},
     "output_type": "display_data"
    }
   ],
   "source": [
    "# モデルを使わなくても図示は可能\n",
    "sns.lmplot(\n",
    "    x='temperature',\n",
    "    y='beer',\n",
    "    data=beer\n",
    ")"
   ]
  },
  {
   "cell_type": "code",
   "execution_count": 11,
   "metadata": {},
   "outputs": [
    {
     "name": "stdout",
     "output_type": "stream",
     "text": [
      "[ 50.3014808   53.74590495  42.26449113  55.20021737  46.70397114\n",
      "  37.82501112  44.94348769  54.51133254  52.44467805  41.11634975\n",
      "  54.66441806  49.22988218  53.21010564  52.44467805  41.03980699\n",
      "  52.59776357  45.24965873  61.78289462  55.42984564  50.3014808\n",
      "  42.41757665  50.3014808   51.14345115  40.6570932   66.91125946\n",
      "  52.9039346   62.85449324  41.42252079  62.47177945  39.50895182]\n"
     ]
    },
    {
     "data": {
      "text/plain": [
       "<matplotlib.collections.PathCollection at 0x7fa572ea4438>"
      ]
     },
     "execution_count": 11,
     "metadata": {},
     "output_type": "execute_result"
    },
    {
     "data": {
      "image/png": "[encoded data removed]",
      "text/plain": [
       "<matplotlib.figure.Figure at 0x7fa572f88630>"
      ]
     },
     "metadata": {},
     "output_type": "display_data"
    }
   ],
   "source": [
    "# モデルによる予測\n",
    "\n",
    "# 当てはめの予測結果\n",
    "pred = lm_model.predict()\n",
    "print(pred)\n",
    "\n",
    "# モデルによる予測を明示的に指定してプロットする\n",
    "plt.plot(beer['temperature'], pred)\n",
    "plt.scatter(beer['temperature'], beer['beer'])"
   ]
  },
  {
   "cell_type": "code",
   "execution_count": 12,
   "metadata": {},
   "outputs": [
    {
     "data": {
      "text/plain": [
       "0    34.610215\n",
       "dtype: float64"
      ]
     },
     "execution_count": 12,
     "metadata": {},
     "output_type": "execute_result"
    }
   ],
   "source": [
    "# 気温（temperature）の値を指定して予測\n",
    "lm_model.predict(pd.DataFrame({'temperature': [0]}))  # 0℃の予測は切片と一致する"
   ]
  },
  {
   "cell_type": "markdown",
   "metadata": {},
   "source": [
    "----\n",
    "### ■ モデルの評価\n",
    "\n",
    "モデルの評価は主に残差のチェックを通して行われる。<br>\n",
    "今回の正規線形モデルの場合は、残差が平均 0 の正規分布に従うはずなのでそのチェックを行う。\n",
    "\n",
    "※実際には予測の前に評価を行うべき。"
   ]
  },
  {
   "cell_type": "code",
   "execution_count": 13,
   "metadata": {},
   "outputs": [
    {
     "name": "stdout",
     "output_type": "stream",
     "text": [
      "resid: \n",
      "0    -5.001481\n",
      "1     5.554095\n",
      "2    -1.864491\n",
      "3   -17.200217\n",
      "4    -9.703971\n",
      "dtype: float64\n",
      "\n",
      "resid(manual): \n",
      "0    -5.001481\n",
      "1     5.554095\n",
      "2    -1.864491\n",
      "3   -17.200217\n",
      "4    -9.703971\n",
      "dtype: float64\n"
     ]
    }
   ],
   "source": [
    "# 残差の取得\n",
    "resid = lm_model.resid\n",
    "print('resid: \\n{}'.format(resid.head()))\n",
    "\n",
    "\n",
    "# 手で求めてみる\n",
    "beta0 = lm_model.params[0]\n",
    "beta1 = lm_model.params[1]\n",
    "\n",
    "y_hat = beta0 + beta1 * beer['temperature']\n",
    "resid_manual = beer['beer'] - y_hat\n",
    "print('\\nresid(manual): \\n{}'.format(resid_manual.head()))"
   ]
  },
  {
   "cell_type": "code",
   "execution_count": 14,
   "metadata": {},
   "outputs": [
    {
     "data": {
      "text/plain": [
       "<seaborn.axisgrid.JointGrid at 0x7fa572e97320>"
      ]
     },
     "execution_count": 14,
     "metadata": {},
     "output_type": "execute_result"
    },
    {
     "data": {
      "image/png": "[encoded data removed]",
      "text/plain": [
       "<matplotlib.figure.Figure at 0x7fa572f365c0>"
      ]
     },
     "metadata": {},
     "output_type": "display_data"
    },
    {
     "data": {
      "image/png": "[encoded data removed]",
      "text/plain": [
       "<matplotlib.figure.Figure at 0x7fa572e97390>"
      ]
     },
     "metadata": {},
     "output_type": "display_data"
    }
   ],
   "source": [
    "# 残差の図示\n",
    "sns.distplot(resid)\n",
    "\n",
    "# 当てはめの値と残差に相関がないことも確認しておく\n",
    "sns.jointplot(lm_model.fittedvalues, resid)"
   ]
  },
  {
   "cell_type": "code",
   "execution_count": 15,
   "metadata": {},
   "outputs": [
    {
     "data": {
      "image/png": "[encoded data removed]",
      "text/plain": [
       "<matplotlib.figure.Figure at 0x7fa572d52cc0>"
      ]
     },
     "metadata": {},
     "output_type": "display_data"
    }
   ],
   "source": [
    "# Q-Q プロット\n",
    "# すべてのデータに対する分位点と、理論上の正規分布の分位点とを比較するグラフ\n",
    "sm.qqplot(resid, line='s', linestyle='--')\n",
    "plt.tight_layout()"
   ]
  },
  {
   "cell_type": "markdown",
   "metadata": {},
   "source": [
    "----\n",
    "### ■ 決定係数\n",
    "\n",
    "手持ちデータへのモデルの当てはめの度合いを評価した指標。<br>\n",
    "1 に近いほど良い。"
   ]
  },
  {
   "cell_type": "code",
   "execution_count": 16,
   "metadata": {},
   "outputs": [
    {
     "name": "stdout",
     "output_type": "stream",
     "text": [
      "R^2: 0.504\n",
      "R^2(manual): 0.504\n"
     ]
    }
   ],
   "source": [
    "# R^2\n",
    "print('R^2: {:.3f}'.format(lm_model.rsquared))\n",
    "\n",
    "# 手で求めてみる\n",
    "mu = sp.mean(beer['beer'])\n",
    "y = beer['beer']\n",
    "y_hat = lm_model.predict()\n",
    "\n",
    "print('R^2(manual): {:.3f}'.format(sp.sum((y_hat - mu) ** 2) / sp.sum((y - mu) ** 2)))"
   ]
  },
  {
   "cell_type": "code",
   "execution_count": 17,
   "metadata": {},
   "outputs": [
    {
     "name": "stdout",
     "output_type": "stream",
     "text": [
      "unexpressed variation: 3277.115\n",
      "actual variation: 3277.115\n"
     ]
    },
    {
     "data": {
      "text/plain": [
       "0.503959323061186"
      ]
     },
     "execution_count": 17,
     "metadata": {},
     "output_type": "execute_result"
    }
   ],
   "source": [
    "print('unexpressed variation: {:.3f}'.format(sp.sum((y_hat - mu) ** 2) + sp.sum(resid ** 2)))\n",
    "print('actual variation: {:.3f}'.format(sp.sum((y - mu) ** 2)))\n",
    "\n",
    "1 - sp.sum(resid ** 2) / sp.sum((y - mu) ** 2)"
   ]
  },
  {
   "cell_type": "markdown",
   "metadata": {},
   "source": [
    "----\n",
    "### ■ 自由度調整済み決定係数\n",
    "\n",
    "説明変数の増加に対する罰則を組み込んだ決定係数。<br>\n",
    "過学習に対するケアとして確認すべき指標。<br>\n",
    "1 に近いほど良い。"
   ]
  },
  {
   "cell_type": "code",
   "execution_count": 18,
   "metadata": {},
   "outputs": [
    {
     "name": "stdout",
     "output_type": "stream",
     "text": [
      "Adj R^2: 0.486\n",
      "Adj R^2(manual): 0.486\n"
     ]
    }
   ],
   "source": [
    "# Adjusted R^2\n",
    "print('Adj R^2: {:.3f}'.format(lm_model.rsquared_adj))\n",
    "\n",
    "# 手で求めてみる\n",
    "n = len(beer['beer'])\n",
    "s = lm_model.df_model\n",
    "adj_r2_manual = 1 - ((sp.sum(resid ** 2) / (n - s - 1)) / (sp.sum((y - mu) ** 2) / (n - 1)))\n",
    "\n",
    "print('Adj R^2(manual): {:.3f}'.format(adj_r2_manual))"
   ]
  }
 ],
 "metadata": {
  "kernelspec": {
   "display_name": "Python 3",
   "language": "python",
   "name": "python3"
  },
  "language_info": {
   "codemirror_mode": {
    "name": "ipython",
    "version": 3
   },
   "file_extension": ".py",
   "mimetype": "text/x-python",
   "name": "python",
   "nbconvert_exporter": "python",
   "pygments_lexer": "ipython3",
   "version": "3.6.6"
  }
 },
 "nbformat": 4,
 "nbformat_minor": 2
}
