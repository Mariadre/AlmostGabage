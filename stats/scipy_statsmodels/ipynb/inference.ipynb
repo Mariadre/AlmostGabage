{
 "cells": [
  {
   "cell_type": "code",
   "execution_count": 1,
   "metadata": {},
   "outputs": [],
   "source": [
    "import numpy as np\n",
    "import pandas as pd\n",
    "import scipy as sp\n",
    "from scipy import stats\n",
    "\n",
    "import matplotlib.pyplot as plt\n",
    "import seaborn as sns\n",
    "sns.set()\n",
    "\n",
    "import warnings\n",
    "warnings.filterwarnings('ignore')\n",
    "\n",
    "%matplotlib inline"
   ]
  },
  {
   "cell_type": "code",
   "execution_count": 2,
   "metadata": {},
   "outputs": [
    {
     "data": {
      "text/plain": [
       "0    5.299476\n",
       "1    3.510595\n",
       "2    3.577463\n",
       "3    3.141625\n",
       "4    4.692326\n",
       "5    2.158769\n",
       "6    5.395849\n",
       "7    3.391034\n",
       "8    4.255231\n",
       "9    3.800504\n",
       "Name: length, dtype: float64"
      ]
     },
     "execution_count": 2,
     "metadata": {},
     "output_type": "execute_result"
    }
   ],
   "source": [
    "# 分析対象データ（10尾の魚の体長）\n",
    "np.random.seed(1)\n",
    "fish = pd.Series(np.random.normal(loc=4, scale=0.8, size=10), name='length')\n",
    "fish"
   ]
  },
  {
   "cell_type": "markdown",
   "metadata": {},
   "source": [
    "----\n",
    "## 点推定\n",
    "\n",
    "- 標本平均を算出し、母平均の推定値とみなす\n",
    "- 標本分散を算出し、母分散の推定値とみなす"
   ]
  },
  {
   "cell_type": "code",
   "execution_count": 3,
   "metadata": {},
   "outputs": [
    {
     "name": "stdout",
     "output_type": "stream",
     "text": [
      "mean: 3.922\n",
      "var:  1.009\n"
     ]
    }
   ],
   "source": [
    "mu = sp.mean(fish)\n",
    "print('mean: {:.3f}'.format(mu))\n",
    "sigma = sp.var(fish, ddof=1)\n",
    "print('var:  {:.3f}'.format(sigma))"
   ]
  },
  {
   "cell_type": "markdown",
   "metadata": {},
   "source": [
    "----\n",
    "## 区間推定\n",
    "\n",
    "推定値に幅を持たせた推定方法のこと<br>\n",
    "推定値の幅の計算には確率の考え方を用いる\n",
    "\n",
    "区間推定に必要となる情報は以下の3つ\n",
    "\n",
    "- 自由度（サンプルサイズ - 1）\n",
    "- 標本平均\n",
    "- 標本誤差"
   ]
  },
  {
   "cell_type": "code",
   "execution_count": 5,
   "metadata": {},
   "outputs": [],
   "source": [
    "# 自由度\n",
    "df = len(fish) - 1\n",
    "\n",
    "# 標準誤差\n",
    "se = sigma / sp.sqrt(len(fish))"
   ]
  },
  {
   "cell_type": "code",
   "execution_count": 10,
   "metadata": {},
   "outputs": [
    {
     "name": "stdout",
     "output_type": "stream",
     "text": [
      "Lo: 1.641\n",
      "Hi: 6.204\n"
     ]
    }
   ],
   "source": [
    "# 信頼区間を算出\n",
    "lower, upper = stats.t.interval(\n",
    "    alpha=0.95,\n",
    "    df=df,\n",
    "    loc=mu,\n",
    "    scale=sigma\n",
    ")\n",
    "print('Lo: {:.3f}'.format(lower))\n",
    "print('Hi: {:.3f}'.format(upper))"
   ]
  },
  {
   "cell_type": "code",
   "execution_count": 11,
   "metadata": {},
   "outputs": [
    {
     "data": {
      "text/plain": [
       "(-3.2922714426386253, 11.136846017348864)"
      ]
     },
     "execution_count": 11,
     "metadata": {},
     "output_type": "execute_result"
    }
   ],
   "source": [
    "# 標本標準偏差を 10 倍にしてみると、信頼区間の幅が広がる\n",
    "se2 = (sigma*10) / sp.sqrt(len(fish))\n",
    "stats.t.interval(alpha=0.95, df=df, loc=mu, scale=se2)"
   ]
  },
  {
   "cell_type": "code",
   "execution_count": 13,
   "metadata": {},
   "outputs": [
    {
     "data": {
      "text/plain": [
       "(3.7221738948570589, 4.1224006798531807)"
      ]
     },
     "execution_count": 13,
     "metadata": {},
     "output_type": "execute_result"
    }
   ],
   "source": [
    "# サンプルサイズを 10 倍にしてみると、信頼区間の幅は狭まる\n",
    "df2 = len(fish) * 10 - 1\n",
    "se3 = sigma / sp.sqrt(len(fish) * 10)\n",
    "stats.t.interval(alpha=0.95, df=df2, loc=mu, scale=se3)"
   ]
  },
  {
   "cell_type": "markdown",
   "metadata": {},
   "source": [
    "#### 区間推定の結果の解釈\n",
    "\n",
    "1. 真の母集団分布から標本を抽出する\n",
    "1. 95% 信頼区間を計算する\n",
    "1. 1と2の試行を繰り返す\n",
    "1. すべての試行のうち、「真の母数」が信頼区間に含まれている割合が 95%"
   ]
  },
  {
   "cell_type": "code",
   "execution_count": 17,
   "metadata": {},
   "outputs": [],
   "source": [
    "# 上記の内容をシミュレーションで確認する\n",
    "# 信頼区間が母平均 4 を含んでいるか否かを求める\n",
    "is_included = np.zeros(20000, dtype='bool')\n",
    "\n",
    "np.random.seed(1)\n",
    "norm_dist = stats.norm(loc=4, scale=0.8)\n",
    "\n",
    "for i in range(20000):\n",
    "    sample = norm_dist.rvs(size=10)\n",
    "    df = len(sample) - 1\n",
    "    mu = sp.mean(sample)\n",
    "    sigma = sp.std(sample, ddof=1)\n",
    "    se = sigma / sp.sqrt(len(sample))\n",
    "    interval = stats.t.interval(alpha=0.95, df=df, loc=mu, scale=se)\n",
    "    if (interval[0] <= 4 and interval[1] >= 4):\n",
    "        is_included[i] = True"
   ]
  },
  {
   "cell_type": "code",
   "execution_count": 18,
   "metadata": {},
   "outputs": [
    {
     "data": {
      "text/plain": [
       "0.94799999999999995"
      ]
     },
     "execution_count": 18,
     "metadata": {},
     "output_type": "execute_result"
    }
   ],
   "source": [
    "sp.sum(is_included) / len(is_included)"
   ]
  },
  {
   "cell_type": "code",
   "execution_count": null,
   "metadata": {},
   "outputs": [],
   "source": []
  }
 ],
 "metadata": {
  "kernelspec": {
   "display_name": "Python 3",
   "language": "python",
   "name": "python3"
  },
  "language_info": {
   "codemirror_mode": {
    "name": "ipython",
    "version": 3
   },
   "file_extension": ".py",
   "mimetype": "text/x-python",
   "name": "python",
   "nbconvert_exporter": "python",
   "pygments_lexer": "ipython3",
   "version": "3.6.6"
  }
 },
 "nbformat": 4,
 "nbformat_minor": 2
}
